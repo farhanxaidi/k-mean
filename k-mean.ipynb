{
 "cells": [
  {
   "cell_type": "code",
   "execution_count": 3,
   "id": "261dcbc9",
   "metadata": {},
   "outputs": [],
   "source": [
    "import numpy as np\n",
    "import pandas as pd\n",
    "import random as rd \n",
    "import matplotlib.pyplot as plt\n",
    "from math import sqrt"
   ]
  },
  {
   "cell_type": "code",
   "execution_count": 4,
   "id": "7886e1dd",
   "metadata": {},
   "outputs": [],
   "source": [
    "df = pd.read_csv(\"data.csv\")"
   ]
  },
  {
   "cell_type": "code",
   "execution_count": 5,
   "id": "8e7542d1",
   "metadata": {},
   "outputs": [],
   "source": [
    "header = {'Height','Weight'}"
   ]
  },
  {
   "cell_type": "code",
   "execution_count": 6,
   "id": "a3bdd687",
   "metadata": {},
   "outputs": [],
   "source": [
    "df.columns = header"
   ]
  },
  {
   "cell_type": "code",
   "execution_count": 7,
   "id": "c9c85b71",
   "metadata": {},
   "outputs": [
    {
     "data": {
      "text/html": [
       "<div>\n",
       "<style scoped>\n",
       "    .dataframe tbody tr th:only-of-type {\n",
       "        vertical-align: middle;\n",
       "    }\n",
       "\n",
       "    .dataframe tbody tr th {\n",
       "        vertical-align: top;\n",
       "    }\n",
       "\n",
       "    .dataframe thead th {\n",
       "        text-align: right;\n",
       "    }\n",
       "</style>\n",
       "<table border=\"1\" class=\"dataframe\">\n",
       "  <thead>\n",
       "    <tr style=\"text-align: right;\">\n",
       "      <th></th>\n",
       "      <th>Weight</th>\n",
       "      <th>Height</th>\n",
       "    </tr>\n",
       "  </thead>\n",
       "  <tbody>\n",
       "    <tr>\n",
       "      <th>0</th>\n",
       "      <td>170</td>\n",
       "      <td>56</td>\n",
       "    </tr>\n",
       "    <tr>\n",
       "      <th>1</th>\n",
       "      <td>171</td>\n",
       "      <td>50</td>\n",
       "    </tr>\n",
       "    <tr>\n",
       "      <th>2</th>\n",
       "      <td>165</td>\n",
       "      <td>53</td>\n",
       "    </tr>\n",
       "    <tr>\n",
       "      <th>3</th>\n",
       "      <td>172</td>\n",
       "      <td>60</td>\n",
       "    </tr>\n",
       "    <tr>\n",
       "      <th>4</th>\n",
       "      <td>168</td>\n",
       "      <td>54</td>\n",
       "    </tr>\n",
       "    <tr>\n",
       "      <th>5</th>\n",
       "      <td>179</td>\n",
       "      <td>68</td>\n",
       "    </tr>\n",
       "    <tr>\n",
       "      <th>6</th>\n",
       "      <td>182</td>\n",
       "      <td>72</td>\n",
       "    </tr>\n",
       "    <tr>\n",
       "      <th>7</th>\n",
       "      <td>188</td>\n",
       "      <td>77</td>\n",
       "    </tr>\n",
       "    <tr>\n",
       "      <th>8</th>\n",
       "      <td>180</td>\n",
       "      <td>71</td>\n",
       "    </tr>\n",
       "    <tr>\n",
       "      <th>9</th>\n",
       "      <td>180</td>\n",
       "      <td>70</td>\n",
       "    </tr>\n",
       "    <tr>\n",
       "      <th>10</th>\n",
       "      <td>183</td>\n",
       "      <td>84</td>\n",
       "    </tr>\n",
       "    <tr>\n",
       "      <th>11</th>\n",
       "      <td>180</td>\n",
       "      <td>88</td>\n",
       "    </tr>\n",
       "    <tr>\n",
       "      <th>12</th>\n",
       "      <td>180</td>\n",
       "      <td>67</td>\n",
       "    </tr>\n",
       "    <tr>\n",
       "      <th>13</th>\n",
       "      <td>177</td>\n",
       "      <td>76</td>\n",
       "    </tr>\n",
       "  </tbody>\n",
       "</table>\n",
       "</div>"
      ],
      "text/plain": [
       "    Weight  Height\n",
       "0      170      56\n",
       "1      171      50\n",
       "2      165      53\n",
       "3      172      60\n",
       "4      168      54\n",
       "5      179      68\n",
       "6      182      72\n",
       "7      188      77\n",
       "8      180      71\n",
       "9      180      70\n",
       "10     183      84\n",
       "11     180      88\n",
       "12     180      67\n",
       "13     177      76"
      ]
     },
     "execution_count": 7,
     "metadata": {},
     "output_type": "execute_result"
    }
   ],
   "source": [
    "df"
   ]
  },
  {
   "cell_type": "code",
   "execution_count": 8,
   "id": "93937490",
   "metadata": {},
   "outputs": [
    {
     "data": {
      "image/png": "[encoded data removed]",
      "text/plain": [
       "<Figure size 432x288 with 1 Axes>"
      ]
     },
     "metadata": {
      "needs_background": "light"
     },
     "output_type": "display_data"
    }
   ],
   "source": [
    "var = df[['Height','Weight']]\n",
    "plt.scatter(var['Height'],var['Weight'],color = 'blue')\n",
    "plt.xlabel('Height')\n",
    "plt.ylabel('Weight')\n",
    "plt.show()"
   ]
  },
  {
   "cell_type": "code",
   "execution_count": 9,
   "id": "7e468dcf",
   "metadata": {},
   "outputs": [],
   "source": [
    "k = 2\n",
    "Centroids = (var.sample(n = k))"
   ]
  },
  {
   "cell_type": "code",
   "execution_count": 10,
   "id": "5df7b6ba",
   "metadata": {},
   "outputs": [
    {
     "data": {
      "text/html": [
       "<div>\n",
       "<style scoped>\n",
       "    .dataframe tbody tr th:only-of-type {\n",
       "        vertical-align: middle;\n",
       "    }\n",
       "\n",
       "    .dataframe tbody tr th {\n",
       "        vertical-align: top;\n",
       "    }\n",
       "\n",
       "    .dataframe thead th {\n",
       "        text-align: right;\n",
       "    }\n",
       "</style>\n",
       "<table border=\"1\" class=\"dataframe\">\n",
       "  <thead>\n",
       "    <tr style=\"text-align: right;\">\n",
       "      <th></th>\n",
       "      <th>Height</th>\n",
       "      <th>Weight</th>\n",
       "    </tr>\n",
       "  </thead>\n",
       "  <tbody>\n",
       "    <tr>\n",
       "      <th>8</th>\n",
       "      <td>71</td>\n",
       "      <td>180</td>\n",
       "    </tr>\n",
       "    <tr>\n",
       "      <th>10</th>\n",
       "      <td>84</td>\n",
       "      <td>183</td>\n",
       "    </tr>\n",
       "  </tbody>\n",
       "</table>\n",
       "</div>"
      ],
      "text/plain": [
       "    Height  Weight\n",
       "8       71     180\n",
       "10      84     183"
      ]
     },
     "execution_count": 10,
     "metadata": {},
     "output_type": "execute_result"
    }
   ],
   "source": [
    "Centroids"
   ]
  },
  {
   "cell_type": "code",
   "execution_count": 11,
   "id": "a7d47045",
   "metadata": {},
   "outputs": [
    {
     "data": {
      "image/png": "[encoded data removed]",
      "text/plain": [
       "<Figure size 432x288 with 1 Axes>"
      ]
     },
     "metadata": {
      "needs_background": "light"
     },
     "output_type": "display_data"
    }
   ],
   "source": [
    "var = df[['Height','Weight']]\n",
    "plt.scatter(var['Height'],var['Weight'],color = 'blue')\n",
    "plt.scatter(Centroids['Height'],Centroids['Weight'],color = 'red')\n",
    "plt.xlabel('Height')\n",
    "plt.ylabel('Weight')\n",
    "plt.show()"
   ]
  },
  {
   "cell_type": "code",
   "execution_count": 12,
   "id": "cfaacc68",
   "metadata": {},
   "outputs": [
    {
     "ename": "IndentationError",
     "evalue": "unexpected indent (Temp/ipykernel_17052/1740907240.py, line 26)",
     "output_type": "error",
     "traceback": [
      "\u001b[1;36m  File \u001b[1;32m\"C:\\Users\\MOD\\AppData\\Local\\Temp/ipykernel_17052/1740907240.py\"\u001b[1;36m, line \u001b[1;32m26\u001b[0m\n\u001b[1;33m    if j == 0:\u001b[0m\n\u001b[1;37m    ^\u001b[0m\n\u001b[1;31mIndentationError\u001b[0m\u001b[1;31m:\u001b[0m unexpected indent\n"
     ]
    }
   ],
   "source": [
    "min = 1\n",
    "x = 0\n",
    "while(min!=0):\n",
    "    var2 = x\n",
    "    i = 1\n",
    "    for index1,row_c in Centroids.iterrows():\n",
    "        ED = []\n",
    "        for index2,row_d in XD.iterrows():\n",
    "            d1 = (row_c[\"x1\"]-row_d[\"x2\"])**2\n",
    "            d2 = (row_c[\"x2\"]-row_d[\"x2\"])**2\n",
    "            d=sqrt(d1+d2)\n",
    "            ED.append(d)\n",
    "        x[i]=ED\n",
    "        i=i+1\n",
    "    c = []\n",
    "    for index,row in x.iterrows():\n",
    "        min_dist = row[1]\n",
    "        pos =1 \n",
    "        for i in range(k):\n",
    "            if row[i+1]<min_dist:\n",
    "                min_dist = row[i+1]\n",
    "                pos = i+1\n",
    "        c.append(pos)\n",
    "    x[\"cluster\"]=c\n",
    "    Centroids_new = x.groupby(['cluster']).mean()[[\"x1\",\"x2\"]]\n",
    "        if j == 0:\n",
    "            diff = 1\n",
    "            x = x+1\n",
    "        else:\n",
    "            diff=(Centroids_new['Height']-Centroids['Weight']).sum()+(Centroids_new['Height']-Centroids['Weight']).sum()\n",
    "            print(diff.sum())\n",
    "        Centroids = x.groupby(['cluster']).mean()[['Height','Weight']] "
   ]
  },
  {
   "cell_type": "code",
   "execution_count": null,
   "id": "9e8ac1d3",
   "metadata": {},
   "outputs": [],
   "source": [
    "Centroids"
   ]
  },
  {
   "cell_type": "code",
   "execution_count": null,
   "id": "06f64c3e",
   "metadata": {},
   "outputs": [],
   "source": [
    "color = ['blue','red']\n",
    "for k in range(k):\n",
    "    data = x[X[\"cluster\"]== k+1]\n",
    "    plt.scatter(data[\"Height\"],data[\"Weight\"], c = color[k])\n",
    "plt.scatter(Centroids[\"Height\"],Centroids[\"Weight\"], c = 'black')\n",
    "plt.xlabel(\"Height\")\n",
    "plt.ylabel(\"Weigth\")\n",
    "plt.show()\n",
    "             "
   ]
  },
  {
   "cell_type": "code",
   "execution_count": null,
   "id": "03c4e549",
   "metadata": {},
   "outputs": [],
   "source": []
  }
 ],
 "metadata": {
  "kernelspec": {
   "display_name": "Python 3 (ipykernel)",
   "language": "python",
   "name": "python3"
  },
  "language_info": {
   "codemirror_mode": {
    "name": "ipython",
    "version": 3
   },
   "file_extension": ".py",
   "mimetype": "text/x-python",
   "name": "python",
   "nbconvert_exporter": "python",
   "pygments_lexer": "ipython3",
   "version": "3.9.7"
  }
 },
 "nbformat": 4,
 "nbformat_minor": 5
}
